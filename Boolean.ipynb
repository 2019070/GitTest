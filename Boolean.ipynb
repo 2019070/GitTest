{
 "cells": [
  {
   "cell_type": "code",
   "execution_count": null,
   "id": "ccfdb35a-0ead-4324-beec-d90745e1d0b9",
   "metadata": {},
   "outputs": [],
   "source": []
  }
 ],
 "metadata": {
  "kernelspec": {
   "display_name": "",
   "name": ""
  },
  "language_info": {
   "name": ""
  }
 },
 "nbformat": 4,
 "nbformat_minor": 5
}
